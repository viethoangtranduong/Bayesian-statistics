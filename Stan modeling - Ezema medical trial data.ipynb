{
  "nbformat": 4,
  "nbformat_minor": 0,
  "metadata": {
    "kernelspec": {
      "display_name": "Python 3 (Anaconda 5)",
      "env": {
        "LD_LIBRARY_PATH": "/ext/anaconda5/lib",
        "PROJ_LIB": "/ext/anaconda-2019.03/share/proj",
        "PYTHONHOME": "/ext/anaconda5/lib/python3.5",
        "PYTHONPATH": "/ext/anaconda5/lib/python3.5:/ext/anaconda5/lib/python3.5/site-packages"
      },
      "language": "python",
      "metadata": {
        "cocalc": {
          "description": "Python/R distribution for data science",
          "priority": -1,
          "url": "https://www.anaconda.com/distribution/"
        }
      },
      "name": "anaconda5"
    },
    "language_info": {
      "codemirror_mode": {
        "name": "ipython",
        "version": 3
      },
      "file_extension": ".py",
      "mimetype": "text/x-python",
      "name": "python",
      "nbconvert_exporter": "python",
      "pygments_lexer": "ipython3",
      "version": "3.6.7"
    },
    "colab": {
      "name": "[Hoang Tran] CS146 Assignment 4.ipynb",
      "provenance": [],
      "collapsed_sections": []
    }
  },
  "cells": [
    {
      "cell_type": "markdown",
      "metadata": {
        "collapsed": false,
        "id": "A6NLg7DUhSZF",
        "colab_type": "text"
      },
      "source": [
        "## **CS146 Assignment 4**\n",
        "#### **Model Description**\n",
        "We consider the eczema medical trial data set: **Only the control group**\n",
        "\n",
        "|Study          | Treatment group |   Control group  |\n",
        "|---------------|-----------------|------------------|\n",
        "|Di Rienzo 2014 |     20 / 23     |        9 / 15    |\n",
        "|Galli 1994     |     10 / 16     |       11 / 18    |\n",
        "|Kaufman 1974   |     13 / 16     |        4 / 10    |\n",
        "|Qin 2014       |     35 / 45     |       21 / 39    |\n",
        "|Sanchez 2012   |     22 / 31     |       12 / 29    |\n",
        "|Silny 2006     |      7 / 10     |        0 / 10    |\n",
        "|**Totals**     |    107 / 141    |       57 / 121   |\n",
        "\n",
        "\n",
        "**Model 1: All studies have the same probability of success.**\n",
        "\n",
        "* For each group in the control group, all 6 studies have the same fixed, but unknown, probability of success, $\\theta_c\\in[0,1]$.\n",
        "* The data follow a binomial distribution in each study, conditioned on the probability of success — $\\theta_c$ for control.\n",
        "* The priors over $\\theta_c$ are uniform.\n",
        "\n",
        "These assumptions lead to the following model.\n",
        "\n",
        "* Likelihood: $\\prod_{i=1}^6 \\text{Binomial}(s_i\\,|\\,\\theta, n_i)$, where $s_i$ is the number of successful recoveries, $f_i$ is the number of failures (did not recover), and $n_i=s_i+f_i$ the number of patients.\n",
        "\n",
        "* Prior: $\\text{Beta}(\\theta_c\\,|\\,1,1)$\n",
        "\n",
        "* Posterior for control group: $\\text{Beta}(\\theta_c\\,|\\,58, 65)$.\n",
        "\n",
        "Because:\n",
        "* $\\alpha_1 = \\alpha_0 + \\#success = 1 + 57 = 58$\n",
        "* $\\beta_1 = \\beta_0 + \\#failure = 1 + (121-57) = 1 + 64 = 65$"
      ]
    },
    {
      "cell_type": "markdown",
      "metadata": {
        "id": "E3cAyD7j4AAl",
        "colab_type": "text"
      },
      "source": [
        "We generate 10000 values from the posterior: $\\text{Beta}(\\theta_c\\,|\\,58,65)$.\n",
        "\n",
        "For each value $\\theta_c$, we conduct 6 sample experiment and record the success rate of experiment:\n",
        "* $\\text{Binomial}(s_i\\,|\\,\\theta_c, n_i)$ with $i = 1, ...,6$ and $n = [15,18,10,39,29,10]$. For each $s_i$, calculate the success rate by dividing by the corresponding $n_i: p_i = \\frac{s_i}{n_i}$"
      ]
    },
    {
      "cell_type": "code",
      "metadata": {
        "id": "SKxMlFBA3Auz",
        "colab_type": "code",
        "colab": {}
      },
      "source": [
        "import matplotlib.pyplot as plt\n",
        "import numpy as np\n",
        "import scipy.stats as stats\n",
        "\n",
        "data_c = np.array([[9,11,4,21,12,0],\n",
        "                   [6,7,6,18,17,10]])"
      ],
      "execution_count": 0,
      "outputs": []
    },
    {
      "cell_type": "code",
      "metadata": {
        "id": "rh2eOSBamfjh",
        "colab_type": "code",
        "colab": {}
      },
      "source": [
        "# prior\n",
        "alpha0 = 1\n",
        "beta0 = 1\n",
        "\n",
        "# posterior\n",
        "alpha1 = alpha0 + np.sum(data_c[0])\n",
        "beta1 = beta0 + np.sum(data_c[1])\n",
        "\n",
        "# number of patients of each experiment of the real data\n",
        "num_patient = data_c[0] + data_c[1]\n",
        "# success rate of the real data\n",
        "real_success_rate = data_c[0]/num_patient\n",
        "\n",
        "\n",
        "# generate 10000 samples θc\n",
        "posterior = stats.beta.rvs(alpha1, beta1, size = 20000)"
      ],
      "execution_count": 0,
      "outputs": []
    },
    {
      "cell_type": "markdown",
      "metadata": {
        "id": "5EOArj7A6w27",
        "colab_type": "text"
      },
      "source": [
        "#### **Test statistics**\n",
        "\n",
        "Our test statistic is the minimum of the resulted success rate. \n",
        "\n",
        "The reason is that: we suspect the data has the outlier at 0: because experiment 6 (Silny 2006) has the success rate = 0, which seems to be unlikely and acts as an outlier (when we graph the histogram of these 6 experiment). Hence, we chose the minimum to signify this point: to show that our model failed to represent this point. "
      ]
    },
    {
      "cell_type": "code",
      "metadata": {
        "id": "a3gpIVZqqpr_",
        "colab_type": "code",
        "outputId": "d4b35d2d-30a3-41c8-a37f-14de8bfa6691",
        "colab": {
          "base_uri": "https://localhost:8080/",
          "height": 295
        }
      },
      "source": [
        "# plot the histogram of the data to examine the characteristics\n",
        "plt.hist(real_success_rate)\n",
        "plt.xlabel(\"Success rate\")\n",
        "plt.title(\"Histogram of the success rate of the real data.\")\n",
        "plt.show()"
      ],
      "execution_count": 3,
      "outputs": [
        {
          "output_type": "display_data",
          "data": {
            "image/png": "[encoded data removed]",
            "text/plain": [
              "<Figure size 432x288 with 1 Axes>"
            ]
          },
          "metadata": {
            "tags": []
          }
        }
      ]
    },
    {
      "cell_type": "code",
      "metadata": {
        "id": "ksPghD75qTyd",
        "colab_type": "code",
        "colab": {}
      },
      "source": [
        "# test_stats function is our test statistics: returning the minimum of the data\n",
        "def test_stats(data):\n",
        "  return min(data)"
      ],
      "execution_count": 0,
      "outputs": []
    },
    {
      "cell_type": "code",
      "metadata": {
        "id": "zUzA6-Ve866I",
        "colab_type": "code",
        "colab": {}
      },
      "source": [
        "# list to store the test statistics results\n",
        "test_results = []\n",
        "# calculate the test statistics for each value of θc by looping through the values for θc\n",
        "for p in posterior:\n",
        "  result = []\n",
        "  # for each value θc, we canduct 6 experiments\n",
        "  for trial in range(6):\n",
        "    # number of success for each experiment\n",
        "    num_success = stats.binom.rvs(num_patient[trial], p)\n",
        "    \n",
        "    # success rate of each experiment\n",
        "    cur_success_rate = num_success/num_patient[trial]\n",
        "    \n",
        "    # the result of 6 experiments\n",
        "    result.append(cur_success_rate)\n",
        "  \n",
        "  # the results of 20 000 samples\n",
        "  test_results.append(test_stats(result))"
      ],
      "execution_count": 0,
      "outputs": []
    },
    {
      "cell_type": "code",
      "metadata": {
        "id": "6GNVgfx3pVpJ",
        "colab_type": "code",
        "outputId": "10f4dc67-6336-4b41-ecca-f68f76772156",
        "colab": {
          "base_uri": "https://localhost:8080/",
          "height": 454
        }
      },
      "source": [
        "# the benchmark: the test statistics for the real data\n",
        "benchmark = test_stats(real_success_rate)\n",
        "\n",
        "plt.figure(figsize = (12, 6))\n",
        "# plot the histogram of the test statistics of the simulated data\n",
        "plt.hist(test_results, density = True)\n",
        "plt.axvline(benchmark, color='red')\n",
        "plt.xlabel(\"Success rate\")\n",
        "plt.title(\"Histogram of the test statistics of the simulated data \\n compared to\\\n",
        " the test statistics for the real data (red line).\")\n",
        "plt.show()\n",
        "\n",
        "final = np.mean(np.array(test_results) > benchmark)\n",
        "print(\"percentage result > real statistic value: \", final*100, \"%\")\n",
        "print(\"p value: \", 1-final)"
      ],
      "execution_count": 6,
      "outputs": [
        {
          "output_type": "display_data",
          "data": {
            "image/png": "[encoded data removed]",
            "text/plain": [
              "<Figure size 864x432 with 1 Axes>"
            ]
          },
          "metadata": {
            "tags": []
          }
        },
        {
          "output_type": "stream",
          "text": [
            "percentage result > real statistic value:  99.58 %\n",
            "p value:  0.0041999999999999815\n"
          ],
          "name": "stdout"
        }
      ]
    },
    {
      "cell_type": "markdown",
      "metadata": {
        "id": "eNfdA6v1IDjy",
        "colab_type": "text"
      },
      "source": [
        "#### **Conclusion**\n",
        "\n",
        "As we can see, the p value is 0.0042, which is smaller than 0.05, meaning that the model failed to represent the data with respect to this test statistic (the minimum of the data). \n",
        "\n",
        "We can conclude that the model fail to sufficiently represent the data with respect to this test statistic: the minimum of the data. This indicates that the model possibly fails to represent the outlier in the data on the far left of the histogram (success rate = 0). "
      ]
    },
    {
      "cell_type": "code",
      "metadata": {
        "id": "SiHpcRC8POXQ",
        "colab_type": "code",
        "colab": {}
      },
      "source": [
        ""
      ],
      "execution_count": 0,
      "outputs": []
    }
  ]
}