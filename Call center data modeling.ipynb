{
  "nbformat": 4,
  "nbformat_minor": 0,
  "metadata": {
    "kernelspec": {
      "display_name": "Python 3 (Anaconda 5)",
      "env": {
        "LD_LIBRARY_PATH": "/ext/anaconda5/lib",
        "PROJ_LIB": "/ext/anaconda-2019.03/share/proj",
        "PYTHONHOME": "/ext/anaconda5/lib/python3.5",
        "PYTHONPATH": "/ext/anaconda5/lib/python3.5:/ext/anaconda5/lib/python3.5/site-packages"
      },
      "language": "python",
      "metadata": {
        "cocalc": {
          "description": "Python/R distribution for data science",
          "priority": -1,
          "url": "https://www.anaconda.com/distribution/"
        }
      },
      "name": "anaconda5"
    },
    "language_info": {
      "codemirror_mode": {
        "name": "ipython",
        "version": 3
      },
      "file_extension": ".py",
      "mimetype": "text/x-python",
      "name": "python",
      "nbconvert_exporter": "python",
      "pygments_lexer": "ipython3",
      "version": "3.6.7"
    },
    "colab": {
      "name": "[Official] CS146 Assignment 2.ipynb",
      "provenance": [],
      "collapsed_sections": []
    },
    "accelerator": "GPU"
  },
  "cells": [
    {
      "cell_type": "markdown",
      "metadata": {
        "id": "Hu41CcFa8c9A",
        "colab_type": "text"
      },
      "source": [
        "Link if people prefer Google Colab Notebook: https://colab.research.google.com/drive/1_Z1RehijDeqJ6fZzOaHGQCeSsamxWxhX "
      ]
    },
    {
      "cell_type": "markdown",
      "metadata": {
        "collapsed": false,
        "id": "md6p3e6FPanf",
        "colab_type": "text"
      },
      "source": [
        "# Section 1: Call center data modeling\n",
        "\n",
        "You are advising a client on the number of call center agents they need to handle their customer support load. We start by modeling the number of phone calls we expect to come into the call center during each hour of the day.\n",
        "\n",
        "You are provided with a data set of the intervals between phone calls arriving during one day. Each value is a time in minutes indicating the amount of time that passed between receiving two consecutive phone calls."
      ]
    },
    {
      "cell_type": "markdown",
      "metadata": {
        "id": "ehihE-OtqYvo",
        "colab_type": "text"
      },
      "source": [
        "## Loading and initializing the data"
      ]
    },
    {
      "cell_type": "code",
      "metadata": {
        "id": "dRjqzkP0Pang",
        "colab_type": "code",
        "colab": {}
      },
      "source": [
        "# importing packages\n",
        "\n",
        "import numpy as np\n",
        "import scipy as sp\n",
        "import scipy.stats as sts\n",
        "import matplotlib.pyplot as plt\n",
        "\n",
        "%matplotlib inline"
      ],
      "execution_count": 0,
      "outputs": []
    },
    {
      "cell_type": "code",
      "metadata": {
        "id": "FSkSBmk_Pank",
        "colab_type": "code",
        "outputId": "2a75d1c4-2710-44e9-d5c8-512504bb1749",
        "colab": {
          "base_uri": "https://localhost:8080/",
          "height": 70
        }
      },
      "source": [
        "# Load the data set containing durations between calls arriving at the call\n",
        "# center during 1 day. All values are in minutes.\n",
        "waiting_times_day = np.loadtxt('https://docs.google.com/spreadsheets/d/e/2PACX-1vTDuQCIYts48eH8mNrw60_c5H0cjRzhwxD2OLveOaN5DnelQ99s22oU2rzRyLS0Oh1iNlEatp68fdmv/pub?gid=485723753&single=true&output=csv')\n",
        "\n",
        "# Display some basic information about the data set.\n",
        "print('Size of data set:', len(waiting_times_day))\n",
        "print('First 3 values in data set:', waiting_times_day[:3])\n",
        "print('Sum of data set:', sum(waiting_times_day))\n",
        "\n",
        "# Make 24 empty lists, one per hour.\n",
        "waiting_times_per_hour = [[] for _ in range(24)]\n",
        "\n",
        "# Split the data into 24 separate series, one for each hour of the day.\n",
        "current_time = 0\n",
        "for t in waiting_times_day:\n",
        "    current_hour = int(current_time // 60)\n",
        "    current_time += t\n",
        "    waiting_times_per_hour[current_hour].append(t)"
      ],
      "execution_count": 2,
      "outputs": [
        {
          "output_type": "stream",
          "text": [
            "Size of data set: 5856\n",
            "First 3 values in data set: [30.   3.4  3.2]\n",
            "Sum of data set: 1441.6838153800093\n"
          ],
          "name": "stdout"
        }
      ]
    },
    {
      "cell_type": "code",
      "metadata": {
        "id": "UWRNCcZuqz-s",
        "colab_type": "code",
        "colab": {
          "base_uri": "https://localhost:8080/",
          "height": 35
        },
        "outputId": "22288cc4-c832-4058-a708-acc7006776cc"
      },
      "source": [
        "number_call = [len(waiting_time_hour) for waiting_time_hour in waiting_times_per_hour]\n",
        "print(\"Percentage of calls between 8 AM and 8 PM: \",\n",
        "      np.sum(number_call[8:21])/np.sum(number_call))"
      ],
      "execution_count": 3,
      "outputs": [
        {
          "output_type": "stream",
          "text": [
            "Percentage of calls between 8 AM and 8 PM:  0.922301912568306\n"
          ],
          "name": "stdout"
        }
      ]
    },
    {
      "cell_type": "markdown",
      "metadata": {
        "collapsed": false,
        "id": "l8cj6UTtPan7",
        "colab_type": "text"
      },
      "source": [
        "## 1. Building important functions\n",
        "\n",
        "1. The **likelihood** function, which is P(datum | lambda_), and this likelihood follow an exponential distribution: the exponential distribution of the datum given the parameter value\n",
        "2. The **prior** function, which is P(lambda_), and this likelihood follow a Gamma distribution: the distribution Gamma(λ | α, β).\n",
        "3. The **compute_posterior** function, which uses Bayes' Theorem.\n",
        "4. The **compute_percentile** function, which compute the parameter value at a particular percentile of the given probability distribution values."
      ]
    },
    {
      "cell_type": "code",
      "metadata": {
        "id": "Vm8QCkIjPan3",
        "colab_type": "code",
        "colab": {}
      },
      "source": [
        "# THE LIKELIHOOD FUNCTION\n",
        "#\n",
        "# This function takes 2 inputs, namely the parameter (λ) value at which to\n",
        "# compute the likelihood and a value from the data set. You need to evaluate\n",
        "# the exponential distribution of the datum given the parameter value.\n",
        "#np.array([np.sum(np.log(likelihood(param, data))) for param in parameter_values])\n",
        "def likelihood(lambda_, datum):\n",
        "    return sts.expon(scale=1/lambda_).pdf(datum)\n",
        "\n",
        "#####################################################\n",
        "# THE PRIOR DISTRIBUTION\n",
        "#\n",
        "# This function takes 1 input, namely the parameter value (λ) at which to\n",
        "# compute the prior probability density. You need to evaluate the distribution\n",
        "# Gamma(λ | α, β).\n",
        "\n",
        "def prior(lambda_):\n",
        "    return sts.gamma(1, scale=1/0.25).pdf(lambda_)\n",
        "\n",
        "#####################################################\n",
        "# THE POSTERIOR DISTRIBUTION: T\n",
        "#\n",
        "# The function below is provided to help make computing the posterior easier. It\n",
        "# follows the same pattern as in the previous class, where we multiple the prior\n",
        "# and the likelihood evaluated at various values of the parameter (λ).\n",
        "#\n",
        "# You will see the function uses the logarithms of various distributions. This\n",
        "# is for numerical reasons. When you multiply lots of likelihood values, the\n",
        "# result can become very large or very small, causing numerical overflow or\n",
        "# underflow in Python. Taking logarithms avoids this problem.\n",
        "def compute_posterior(parameter_values, data):\n",
        "    # Notes: The detail of this function will be presented in Section 2 \n",
        "    # (stretch goal: problem 2)\n",
        "    log_prior = np.log(prior(parameter_values))\n",
        "    log_likelihood = np.array([np.sum(np.log(likelihood(param, data))) for param in parameter_values])\n",
        "    unnormalized_log_posterior = log_prior + log_likelihood\n",
        "    unnormalized_log_posterior -= max(unnormalized_log_posterior)\n",
        "    unnormalized_posterior = np.exp(unnormalized_log_posterior)\n",
        "    area = sp.integrate.trapz(unnormalized_posterior, parameter_values)\n",
        "    posterior = unnormalized_posterior / area\n",
        "    return posterior\n",
        "\n",
        "#####################################################\n",
        "# THE PERCENTILE FUNCTION\n",
        " \n",
        "# Compute the parameter value at a particular percentile of the given\n",
        "# probability distribution values. This function uses the cumulative trapezoid\n",
        "# integrator in SciPy.\n",
        "#\n",
        "# Inputs:\n",
        "#\n",
        "# parameter_values (array of float) This is the list of parameter values\n",
        "# at which the probability distribution has been evaluated.\n",
        "#\n",
        "# distribution_values (array of float) This is the list of values of the\n",
        "# probability density function evaluated at the parameter values above.\n",
        "# \n",
        "# percentile (float) This is the value between 0 and 1 of the percentile \n",
        "# to compute.\n",
        "#\n",
        "# Returns: (float) The parameter value at the given percentile.\n",
        "def compute_percentile(parameter_values, distribution_values, percentile):\n",
        "    cumulative_distribution = sp.integrate.cumtrapz(\n",
        "        distribution_values, parameter_values)\n",
        "    percentile_index = np.searchsorted(cumulative_distribution, percentile)\n",
        "    return lambdas[percentile_index]"
      ],
      "execution_count": 0,
      "outputs": []
    },
    {
      "cell_type": "code",
      "metadata": {
        "id": "u0876HGRPan8",
        "colab_type": "code",
        "colab": {}
      },
      "source": [
        ""
      ],
      "execution_count": 0,
      "outputs": []
    },
    {
      "cell_type": "markdown",
      "metadata": {
        "collapsed": false,
        "id": "heF2IEVSPan_",
        "colab_type": "text"
      },
      "source": [
        "## 2. Compute and Visualize the results\n",
        "\n",
        "1. Compute a 98% posterior confidence interval over the number of calls per minute for every hour of the day: 24 intervals total\n",
        "2. Compute the posterior mean of λ for each hour of the day\n",
        "3. Visualize the results above using an errorbar() plot: Each dot is at the posterior mean and each line shows a 98% confidence interval for a λ"
      ]
    },
    {
      "cell_type": "code",
      "metadata": {
        "id": "6K_gOYBgPaoH",
        "colab_type": "code",
        "outputId": "06f3b1e4-5af7-4881-cb09-a19bc23209b4",
        "colab": {
          "base_uri": "https://localhost:8080/",
          "height": 404
        }
      },
      "source": [
        "# Create empty lists for storing the data\n",
        "#\n",
        "# upper_percentiles_diff to store the difference between the 99% \n",
        "# and the posterior mean\n",
        "#\n",
        "# lower_percentiles_diff to store the difference between the 01% \n",
        "# and the posterior mean\n",
        "#\n",
        "# lambda_ to store the posterior mean\n",
        "upper_percentiles_diff = []\n",
        "lower_percentiles_diff = []\n",
        "lambda_ = []\n",
        "\n",
        "# iterate through every hour in the 24 hours series data\n",
        "for waiting_times_hour in  waiting_times_per_hour:\n",
        "    # initialize the lambdas values\n",
        "    lambdas = np.linspace(0, 20, 501)[1:]\n",
        "    #\n",
        "    # compute the posterior by using the compute_posterior function\n",
        "    # with the initialized lambdas and the data (of each hour)\n",
        "    posterior = compute_posterior(lambdas, waiting_times_hour)\n",
        "    #\n",
        "    # Add the newly calculated posterior mean to the lambda_ list\n",
        "    lambda_.append(sp.integrate.trapz(posterior * lambdas, lambdas))\n",
        "    #\n",
        "    # Calculate the difference between the posterior mean with the 99% percentile\n",
        "    # and append to the upper_percentiles_diff list\n",
        "    upper_percentiles_diff.append(compute_percentile(lambdas, posterior, 0.99) - lambda_[-1])\n",
        "    #\n",
        "    # Calculate the difference between the posterior mean with the 1% percentile\n",
        "    # and append to the upper_percentiles_diff list\n",
        "    lower_percentiles_diff.append(lambda_[-1] - compute_percentile(lambdas, posterior, 0.01))\n",
        "\n",
        "# initialize the graph\n",
        "plt.figure(figsize=(8, 6))\n",
        "# plot the error bar with the mean at lambda_ and the range from the mean derives\n",
        "# from the upper_percentiles_diff and lower_percentiles_diff\n",
        "plt.errorbar(list(range(24)), lambda_, yerr = [upper_percentiles_diff,lower_percentiles_diff]\n",
        "             , fmt=\"o\", capsize=3)\n",
        "# label the axes and plot\n",
        "plt.ylabel('Call rate (Calls per minute)')\n",
        "plt.xlabel('Hour of the day')\n",
        "plt.title('Mean and 98% confidence interval over call rate')\n",
        "plt.show()"
      ],
      "execution_count": 5,
      "outputs": [
        {
          "output_type": "display_data",
          "data": {
            "image/png": "[encoded data removed]",
            "text/plain": [
              "<Figure size 576x432 with 1 Axes>"
            ]
          },
          "metadata": {
            "tags": []
          }
        }
      ]
    },
    {
      "cell_type": "code",
      "metadata": {
        "id": "Hlc0hUWGPaoK",
        "colab_type": "code",
        "colab": {}
      },
      "source": [
        ""
      ],
      "execution_count": 0,
      "outputs": []
    },
    {
      "cell_type": "markdown",
      "metadata": {
        "id": "ghfiZ1MJsTt0",
        "colab_type": "text"
      },
      "source": [
        "## 3. Summarized Findings"
      ]
    },
    {
      "cell_type": "markdown",
      "metadata": {
        "id": "DwT7aHoVse6h",
        "colab_type": "text"
      },
      "source": [
        "The number of calls per minute in each hour increases exponentially from midnight and peaks at 11 AM. The calls rates decrease until 2 PM and start increases again, peaks at 6 PM. After 6 PM, the calls rates decrease exponentially. \n",
        "\n",
        "\n",
        "Starting from 11 AM to noon, the average calls rate per minute is 15.4 calls, with 98% in $\\pm$ 1.2 calls interval. At noon, the average calls rate per minute is also high, at 14.3 calls, with 98% in $\\pm$ 1.1 calls interval\n",
        "Another local mode is at 6 PM, where the average calls rate is 8.8 calls, with 98% in $\\pm$ 0.9 calls interval. Based on the data, 92.2% of the number of calls happened between 8 AM to 8 PM. \n",
        "\n",
        "\n",
        "Business action items: The company should arrange more employees at noon (from 11 AM till 1 PM), with the average 12.8 calls, and at 6 PM, with an average of 8.8 calls. Busy hours are between 8 AM and 8 PM, which might require additional staffs than other periods. More data needs to be collected (call duration, etc.) if we want to have an accurate estimate of how much time each employee respond to a phone call.  "
      ]
    },
    {
      "cell_type": "code",
      "metadata": {
        "id": "lbxQ4SURPaoM",
        "colab_type": "code",
        "colab": {}
      },
      "source": [
        ""
      ],
      "execution_count": 0,
      "outputs": []
    },
    {
      "cell_type": "markdown",
      "metadata": {
        "id": "tLon4mKM0cG3",
        "colab_type": "text"
      },
      "source": [
        "$\\pm$"
      ]
    },
    {
      "cell_type": "markdown",
      "metadata": {
        "id": "vSkpV9O1shff",
        "colab_type": "text"
      },
      "source": [
        "# Section 2: Stretch goal\n",
        "Explained the **compute_posterior** function."
      ]
    },
    {
      "cell_type": "code",
      "metadata": {
        "id": "WK01DTIvtG0v",
        "colab_type": "code",
        "colab": {}
      },
      "source": [
        "def compute_posterior(parameter_values, data):\n",
        "    log_prior = np.log(prior(parameter_values))\n",
        "    log_likelihood = np.array([\n",
        "                               np.sum(np.log(likelihood(param, data))) \n",
        "                               for param in parameter_values])\n",
        "    unnormalized_log_posterior = log_prior + log_likelihood\n",
        "    unnormalized_log_posterior -= max(unnormalized_log_posterior)\n",
        "    unnormalized_posterior = np.exp(unnormalized_log_posterior)\n",
        "    area = sp.integrate.trapz(unnormalized_posterior, parameter_values)\n",
        "    posterior = unnormalized_posterior / area\n",
        "    return posterior"
      ],
      "execution_count": 0,
      "outputs": []
    },
    {
      "cell_type": "markdown",
      "metadata": {
        "id": "oBu2rNkis07D",
        "colab_type": "text"
      },
      "source": [
        "## 1. How is the function multiply the prior and likelihood using logarithms"
      ]
    },
    {
      "cell_type": "markdown",
      "metadata": {
        "id": "Qgbc5_OyuPp3",
        "colab_type": "text"
      },
      "source": [
        "As we know: $$posterior = prior * likelihood$$\n",
        "\n",
        "We have: \n",
        "1. prior is $Gamma(λ | α, β)$\n",
        "2. likelihood is $P(datum | λ)$\n",
        "\n",
        "If given more data (assuming all the data points are independent: which is a valid claim because a call from 1 customer will not likely to affect other customers' calls).\n",
        "\n",
        "Then, with $n$ data points\n",
        "$${posterior = prior * P(datum_1 | λ) * P(datum_2 | λ) * ... * P(datum_n | λ)}$$\n",
        "$$$$\n",
        "$$\\Rightarrow \\ln(posterior) = \\ln(prior * P(datum_1 | λ) * P(datum_2 | λ) * ... * P(datum_n | λ))$$\n",
        "$$$$\n",
        "$$\\Rightarrow \\ln(posterior) = \\ln(prior) + \\ln(P(datum_1 | λ)) + \\ln(P(datum_2 | λ)) + ... + \\ln(P(datum_n | λ))$$\n",
        "$$$$\n",
        "$$\\Rightarrow \\ln(posterior) = \\ln(prior) + \\sum_{i=1}^{n} \\ln(P(datum_i | λ))$$\n",
        "\n",
        "\n",
        "Hence, the log of the posterior equals to sum of the log of the prior and the series of likelihood. This is demonstrated in the code where **unnormalized_log_posterior = log_prior + log_likelihood**. \n",
        "\n",
        "Where the **log_likelihood** variable is already a sum of all log of each datum likelihood by using **np.sum** above. \n"
      ]
    },
    {
      "cell_type": "code",
      "metadata": {
        "id": "VYXVzf6nsghJ",
        "colab_type": "code",
        "colab": {}
      },
      "source": [
        "def compute_posterior(parameter_values, data):\n",
        "    # take the log of the prior\n",
        "    log_prior = np.log(prior(parameter_values))\n",
        "    \n",
        "    # for each lambda (parameter_values), we compute the sum of all of log of\n",
        "    # each datum likelihood by using np.sum\n",
        "    log_likelihood = np.array([np.sum(np.log(likelihood(param, data))) for param in parameter_values])\n",
        "    \n",
        "    # the log of posterior is the sum of log of prior and log of likelihood\n",
        "    unnormalized_log_posterior = log_prior + log_likelihood\n",
        "    unnormalized_log_posterior -= max(unnormalized_log_posterior)\n",
        "    unnormalized_posterior = np.exp(unnormalized_log_posterior)\n",
        "    area = sp.integrate.trapz(unnormalized_posterior, parameter_values)\n",
        "    posterior = unnormalized_posterior / area\n",
        "    return posterior"
      ],
      "execution_count": 0,
      "outputs": []
    },
    {
      "cell_type": "code",
      "metadata": {
        "id": "O4666lmlyt-p",
        "colab_type": "code",
        "colab": {}
      },
      "source": [
        ""
      ],
      "execution_count": 0,
      "outputs": []
    },
    {
      "cell_type": "markdown",
      "metadata": {
        "id": "6MZ8maiztBem",
        "colab_type": "text"
      },
      "source": [
        "## 2. The purpose of np.sum() in line 4"
      ]
    },
    {
      "cell_type": "markdown",
      "metadata": {
        "id": "GqrEO_OgyvAd",
        "colab_type": "text"
      },
      "source": [
        "The np.sum takes the sum of all values within an array. In line 4, it is computing $\\sum_{i=1}^{n} \\ln(P(datum_i | λ))$ with $n$ is the number of data points. For each lambda, we compute the sum of the likelihood of each datum given that lambda value."
      ]
    },
    {
      "cell_type": "code",
      "metadata": {
        "id": "N3B_JBcGPaoP",
        "colab_type": "code",
        "colab": {}
      },
      "source": [
        ""
      ],
      "execution_count": 0,
      "outputs": []
    },
    {
      "cell_type": "markdown",
      "metadata": {
        "id": "jNP90Z-BtQ-k",
        "colab_type": "text"
      },
      "source": [
        "## 3. The purpose of the maximum of the unnormalized log posterior is subtracted in line 7"
      ]
    },
    {
      "cell_type": "markdown",
      "metadata": {
        "id": "MZU-oG7W03nt",
        "colab_type": "text"
      },
      "source": [
        "If we don't subtract the max, in some real-life cases, the maximum will be too big, which makes line 8 occurs Warning like **overflow encountered in exp** \n",
        "\n",
        "(as Python cannot fully represents np.exp(x) as x is too big and occur numerical overflow - if x > 710, this warning will occur).\n",
        "\n",
        "Subtracting will make the largest value in the posterior to be 0 and others values got smaller -> avoid numerical overflow for extremely big numbers. \n",
        "\n",
        "The act of subtracting the max in line 7 does not affect the visualization/intervals at all as we are just simply rescaling an additional step by dividing by a constant factor (subtract for log functions is dividing for after ward functions).\n",
        "\n",
        "This is a pratical step to avoid Python numerical overflow error.\n",
        "\n",
        "Example: Given the same dataset, we modify the code to see the warning. The warning occurs, which makes some values will be represented as **inf**. Then, these values are unprocessable, which lead to another error **invalid value encountered in true_divide**. This will create missing values at some intervals.  \n",
        "\n",
        "As we can see from the code below, at hour[11], the value got too big, lead to overflow. Then, if we look at the graph, the values for hour = 11 does not exist. This cause the figure to be incorrect. Hence, subtracting the max is the practical move. "
      ]
    },
    {
      "cell_type": "code",
      "metadata": {
        "id": "4aNP2Q7WTjwM",
        "colab_type": "code",
        "outputId": "6da32921-4b86-4469-e49c-7a2716021b16",
        "colab": {
          "base_uri": "https://localhost:8080/",
          "height": 922
        }
      },
      "source": [
        "def compute_posterior(parameter_values, data):\n",
        "    log_prior = np.log(prior(parameter_values))\n",
        "    log_likelihood = np.array([\n",
        "                               np.sum(np.log(likelihood(param, data))) \n",
        "                               for param in parameter_values])\n",
        "    unnormalized_log_posterior = log_prior + log_likelihood\n",
        "    #unnormalized_log_posterior -= max(unnormalized_log_posterior)\n",
        "    unnormalized_posterior = np.exp(unnormalized_log_posterior)\n",
        "    area = sp.integrate.trapz(unnormalized_posterior, parameter_values)\n",
        "    posterior = unnormalized_posterior / area\n",
        "    return posterior\n",
        "\n",
        "# Create empty lists for storing the data\n",
        "#\n",
        "# upper_percentiles_diff to store the difference between the 99% \n",
        "# and the posterior mean\n",
        "#\n",
        "# lower_percentiles_diff to store the difference between the 01% \n",
        "# and the posterior mean\n",
        "#\n",
        "# lambda_ to store the posterior mean\n",
        "upper_percentiles_diff = []\n",
        "lower_percentiles_diff = []\n",
        "lambda_ = []\n",
        "\n",
        "for i, waiting_times_hour in  enumerate(waiting_times_per_hour):\n",
        "    print(i)\n",
        "    # initialize the lambdas values\n",
        "    lambdas = np.linspace(0, 20, 501)[1:]\n",
        "    #\n",
        "    # compute the posterior by using the compute_posterior function\n",
        "    # with the initialized lambdas and the data (of each hour)\n",
        "    posterior = compute_posterior(lambdas, waiting_times_hour)\n",
        "    #\n",
        "    # Add the newly calculated posterior mean to the lambda_ list\n",
        "    lambda_.append(sp.integrate.trapz(posterior * lambdas, lambdas))\n",
        "    #\n",
        "    # Calculate the difference between the posterior mean with the 99% percentile\n",
        "    # and append to the upper_percentiles_diff list\n",
        "    upper_percentiles_diff.append(compute_percentile(lambdas, posterior, 0.99) - lambda_[-1])\n",
        "    #\n",
        "    # Calculate the difference between the posterior mean with the 1% percentile\n",
        "    # and append to the upper_percentiles_diff list\n",
        "    lower_percentiles_diff.append(lambda_[-1] - compute_percentile(lambdas, posterior, 0.01))\n",
        "\n",
        "# initialize the graph\n",
        "plt.figure(figsize=(8, 6))\n",
        "# plot the error bar with the mean at lambda_ and the range from the mean derives\n",
        "# from the upper_percentiles_diff and lower_percentiles_diff\n",
        "plt.errorbar(list(range(24)), lambda_, yerr = [upper_percentiles_diff,lower_percentiles_diff]\n",
        "             , fmt=\"o\", capsize=3)\n",
        "# label the axes and plot\n",
        "plt.ylabel('Call rate (Calls per minute)')\n",
        "plt.xlabel('Hour of the day')\n",
        "plt.title('Mean and 98% confidence interval over call rate')\n",
        "plt.show()"
      ],
      "execution_count": 8,
      "outputs": [
        {
          "output_type": "stream",
          "text": [
            "0\n",
            "1\n",
            "2\n",
            "3\n",
            "4\n",
            "5\n",
            "6\n",
            "7\n",
            "8\n",
            "9\n",
            "10\n",
            "11\n"
          ],
          "name": "stdout"
        },
        {
          "output_type": "stream",
          "text": [
            "/usr/local/lib/python3.6/dist-packages/ipykernel_launcher.py:8: RuntimeWarning: overflow encountered in exp\n",
            "  \n",
            "/usr/local/lib/python3.6/dist-packages/ipykernel_launcher.py:10: RuntimeWarning: invalid value encountered in true_divide\n",
            "  # Remove the CWD from sys.path while we load stuff.\n"
          ],
          "name": "stderr"
        },
        {
          "output_type": "stream",
          "text": [
            "12\n",
            "13\n",
            "14\n",
            "15\n",
            "16\n",
            "17\n",
            "18\n",
            "19\n",
            "20\n",
            "21\n",
            "22\n",
            "23\n"
          ],
          "name": "stdout"
        },
        {
          "output_type": "display_data",
          "data": {
            "image/png": "[encoded data removed]",
            "text/plain": [
              "<Figure size 576x432 with 1 Axes>"
            ]
          },
          "metadata": {
            "tags": []
          }
        }
      ]
    },
    {
      "cell_type": "code",
      "metadata": {
        "id": "gJmdGvx250rV",
        "colab_type": "code",
        "colab": {}
      },
      "source": [
        ""
      ],
      "execution_count": 0,
      "outputs": []
    },
    {
      "cell_type": "markdown",
      "metadata": {
        "id": "xk7WPdiwtWKD",
        "colab_type": "text"
      },
      "source": [
        "## 4. The purpose of dividing by the area in line 10 even after having subtracted the maximum of the unnormalized log posterior in line 7"
      ]
    },
    {
      "cell_type": "markdown",
      "metadata": {
        "id": "i4UELqOu52a6",
        "colab_type": "text"
      },
      "source": [
        "The area under the curve has to be 1. Hence, we divide by the area. \n",
        "\n",
        "Subtracting the maximum of the unnormalized log posterior is simply a rescaling method to ensure computation efficiency and accuracy, but does not link anything with the condition $area = 1$. Therefore, we still have to divide the area at the end. "
      ]
    },
    {
      "cell_type": "code",
      "metadata": {
        "id": "itNW-GA4TrYI",
        "colab_type": "code",
        "colab": {}
      },
      "source": [
        "def compute_posterior(parameter_values, data):\n",
        "    # take the log of the prior\n",
        "    log_prior = np.log(prior(parameter_values))\n",
        "    \n",
        "    # for each lambda (parameter_values), we compute the sum of all of log of\n",
        "    # each datum likelihood by using np.sum\n",
        "    log_likelihood = np.array([np.sum(np.log(likelihood(param, data))) for param in parameter_values])\n",
        "    \n",
        "    # the log of posterior is the sum of log of prior and log of likelihood\n",
        "    unnormalized_log_posterior = log_prior + log_likelihood\n",
        "\n",
        "    # rescaling to ensure no numerical overflow occurs. \n",
        "    unnormalized_log_posterior -= max(unnormalized_log_posterior)\n",
        "\n",
        "    # as we are using log value the whole time, we now \n",
        "    # convert back to the original values.\n",
        "    unnormalized_posterior = np.exp(unnormalized_log_posterior)\n",
        "\n",
        "    # compute the area under the curve and divide the unnormalized_posterior\n",
        "    # by the area to ensure area under the curve = 1 \n",
        "    # \n",
        "    # (the -= max calculation above is an additional rescaling step to ensure\n",
        "    # computation efficiency and accuracy and avoid numerical overflow, and \n",
        "    # does not have anything relate to area under the curve = 1)\n",
        "    area = sp.integrate.trapz(unnormalized_posterior, parameter_values)\n",
        "    posterior = unnormalized_posterior / area\n",
        "    return posterior"
      ],
      "execution_count": 0,
      "outputs": []
    },
    {
      "cell_type": "code",
      "metadata": {
        "id": "X-KNJBtl6sDS",
        "colab_type": "code",
        "colab": {}
      },
      "source": [
        ""
      ],
      "execution_count": 0,
      "outputs": []
    },
    {
      "cell_type": "markdown",
      "metadata": {
        "id": "5zQz1ABmtdJk",
        "colab_type": "text"
      },
      "source": [
        "## 5. Create an example where not taking logarithms would cause a problem. \n",
        "Create a prior, likelihood, and data set that fails to produce the correct posterior when we don’t take logs. Show all your code and visualize your results on one or more plots.\n"
      ]
    },
    {
      "cell_type": "markdown",
      "metadata": {
        "id": "VUbD6G_f7sv8",
        "colab_type": "text"
      },
      "source": [
        "Not taking the log would possibly face the same problem: numerical overflow.\n",
        "\n",
        "Instead of taking log and take the sum, we then have to compute: $\\prod_{i=1}^{n} P(datum_i|λ)$. \n",
        "\n",
        "For 5856 data points given, the product of all the likelihood of the datum given the parameter can exceed the numpy numeric memory (numerical overflow). Hence, causing warnings and inaccuracies. \n",
        "\n",
        "Therefore, it's a better practice to take the log and take the sum as it will less likely to be numerical overflow. \n",
        "\n",
        "Example: Given the same dataset, we modify the code (not using log) to see the warning.  The warning occurs, which makes some values will be represented as **inf**. Then, these values are unprocessable, which lead to another error **invalid value encountered in true_divide**. This will create missing values at some intervals.  \n",
        "\n",
        "As we can see from the code below, at hour[11], the value got too big, lead to overflow. Then, if we look at the graph, the values for hour = 11 does not exist. This cause the figure to be incorrect. Hence, taking the log is the practical move. Also, we can see the graph is similar to Section 2, part 3: both graphs got missing values at hour[11] due to numerical overflow"
      ]
    },
    {
      "cell_type": "code",
      "metadata": {
        "id": "THgmtlrc7rdN",
        "colab_type": "code",
        "colab": {
          "base_uri": "https://localhost:8080/",
          "height": 922
        },
        "outputId": "09bf9911-9635-46cf-9cd4-c25eeaa17a5e"
      },
      "source": [
        "def compute_posterior(parameter_values, data):\n",
        "    priors = prior(parameter_values)\n",
        "    likelihoods = np.array([np.prod(likelihood(param, data)) for param in parameter_values])\n",
        "    unnormalized_posterior = priors * likelihoods\n",
        "    area = sp.integrate.trapz(unnormalized_posterior, parameter_values)\n",
        "    posterior = unnormalized_posterior / area\n",
        "    return posterior\n",
        "\n",
        "# Create empty lists for storing the data\n",
        "#\n",
        "# upper_percentiles_diff to store the difference between the 99% \n",
        "# and the posterior mean\n",
        "#\n",
        "# lower_percentiles_diff to store the difference between the 01% \n",
        "# and the posterior mean\n",
        "#\n",
        "# lambda_ to store the posterior mean\n",
        "upper_percentiles_diff = []\n",
        "lower_percentiles_diff = []\n",
        "lambda_ = []\n",
        "\n",
        "for i, waiting_times_hour in  enumerate(waiting_times_per_hour):\n",
        "    print(i)\n",
        "    # initialize the lambdas values\n",
        "    lambdas = np.linspace(0, 20, 501)[1:]\n",
        "    #\n",
        "    # compute the posterior by using the compute_posterior function\n",
        "    # with the initialized lambdas and the data (of each hour)\n",
        "    posterior = compute_posterior(lambdas, waiting_times_hour)\n",
        "    #\n",
        "    # Add the newly calculated posterior mean to the lambda_ list\n",
        "    lambda_.append(sp.integrate.trapz(posterior * lambdas, lambdas))\n",
        "    #\n",
        "    # Calculate the difference between the posterior mean with the 99% percentile\n",
        "    # and append to the upper_percentiles_diff list\n",
        "    upper_percentiles_diff.append(compute_percentile(lambdas, posterior, 0.99) - lambda_[-1])\n",
        "    #\n",
        "    # Calculate the difference between the posterior mean with the 1% percentile\n",
        "    # and append to the upper_percentiles_diff list\n",
        "    lower_percentiles_diff.append(lambda_[-1] - compute_percentile(lambdas, posterior, 0.01))\n",
        "\n",
        "# initialize the graph\n",
        "plt.figure(figsize=(8, 6))\n",
        "# plot the error bar with the mean at lambda_ and the range from the mean derives\n",
        "# from the upper_percentiles_diff and lower_percentiles_diff\n",
        "plt.errorbar(list(range(24)), lambda_, yerr = [upper_percentiles_diff,lower_percentiles_diff]\n",
        "             , fmt=\"o\", capsize=3)\n",
        "# label the axes and plot\n",
        "plt.ylabel('Call rate (Calls per minute)')\n",
        "plt.xlabel('Hour of the day')\n",
        "plt.title('Mean and 98% confidence interval over call rate')\n",
        "plt.show()"
      ],
      "execution_count": 10,
      "outputs": [
        {
          "output_type": "stream",
          "text": [
            "0\n",
            "1\n",
            "2\n",
            "3\n",
            "4\n",
            "5\n",
            "6\n",
            "7\n",
            "8\n",
            "9\n",
            "10\n",
            "11\n"
          ],
          "name": "stdout"
        },
        {
          "output_type": "stream",
          "text": [
            "/usr/local/lib/python3.6/dist-packages/numpy/core/fromnumeric.py:86: RuntimeWarning: overflow encountered in reduce\n",
            "  return ufunc.reduce(obj, axis, dtype, out, **passkwargs)\n",
            "/usr/local/lib/python3.6/dist-packages/ipykernel_launcher.py:6: RuntimeWarning: invalid value encountered in true_divide\n",
            "  \n"
          ],
          "name": "stderr"
        },
        {
          "output_type": "stream",
          "text": [
            "12\n",
            "13\n",
            "14\n",
            "15\n",
            "16\n",
            "17\n",
            "18\n",
            "19\n",
            "20\n",
            "21\n",
            "22\n",
            "23\n"
          ],
          "name": "stdout"
        },
        {
          "output_type": "display_data",
          "data": {
            "image/png": "[encoded data removed]",
            "text/plain": [
              "<Figure size 576x432 with 1 Axes>"
            ]
          },
          "metadata": {
            "tags": []
          }
        }
      ]
    },
    {
      "cell_type": "code",
      "metadata": {
        "id": "T3Gkgs7UBCTm",
        "colab_type": "code",
        "colab": {}
      },
      "source": [
        ""
      ],
      "execution_count": 0,
      "outputs": []
    },
    {
      "cell_type": "code",
      "metadata": {
        "id": "JLGtP7W2b5nf",
        "colab_type": "code",
        "colab": {}
      },
      "source": [
        ""
      ],
      "execution_count": 0,
      "outputs": []
    }
  ]
}